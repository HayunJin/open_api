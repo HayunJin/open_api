{
  "nbformat": 4,
  "nbformat_minor": 0,
  "metadata": {
    "colab": {
      "name": "영화진흥위원회_일별박스오피스.ipynb",
      "provenance": [],
      "collapsed_sections": [],
      "authorship_tag": "ABX9TyNPoy2jJQe4i2S7fmkjxYzY",
      "include_colab_link": true
    },
    "kernelspec": {
      "name": "python3",
      "display_name": "Python 3"
    },
    "language_info": {
      "name": "python"
    }
  },
  "cells": [
    {
      "cell_type": "markdown",
      "metadata": {
        "id": "view-in-github",
        "colab_type": "text"
      },
      "source": [
        "<a href=\"https://colab.research.google.com/github/HayunJin/open_api/blob/main/%EC%98%81%ED%99%94%EC%A7%84%ED%9D%A5%EC%9C%84%EC%9B%90%ED%9A%8C_%EC%9D%BC%EB%B3%84%EB%B0%95%EC%8A%A4%EC%98%A4%ED%94%BC%EC%8A%A4.ipynb\" target=\"_parent\"><img src=\"https://colab.research.google.com/assets/colab-badge.svg\" alt=\"Open In Colab\"/></a>"
      ]
    },
    {
      "cell_type": "code",
      "metadata": {
        "id": "rYxXaAGFoHcy"
      },
      "source": [
        "# 영화진흥위원회_일별박스오피스\n",
        "# https://www.kobis.or.kr/kobisopenapi/homepg/apiservice/searchServiceInfo.do\n",
        "\n",
        "import requests\n",
        "import json\n",
        "import pandas as pd\n",
        "import datetime\n",
        "from datetime import timedelta\n",
        "\n",
        "# 0105001\n",
        "url = 'http://www.kobis.or.kr/kobisopenapi/webservice/rest/boxoffice/searchDailyBoxOfficeList.json?key={}&targetDt={}&wideAreaCd=0105001'"
      ],
      "execution_count": 50,
      "outputs": []
    },
    {
      "cell_type": "code",
      "metadata": {
        "id": "tV7KXu9_Kgn7"
      },
      "source": [
        "# 임시 테이블 생성\n",
        "tmp = pd.DataFrame(columns = ['audiAcc','audiChange','audiCnt','audiInten','movieCd','movieNm','openDt','rank','rankInten','rankOldAndNew','rnum','salesAcc','salesAmt','salesChange','salesInten','salesShare','scrnCnt','showCnt','targetDt'])"
      ],
      "execution_count": 51,
      "outputs": []
    },
    {
      "cell_type": "code",
      "metadata": {
        "id": "08uRgVbxrjPL"
      },
      "source": [
        "def get_daily_box_office(std_date, i):\n",
        "    target_dt = (std_date + timedelta(days=i)).strftime(\"%Y%m%d\")\n",
        "    print(target_dt)\n",
        "    res = requests.get(url.format(\"[key값]\", target_dt))\n",
        "    text = res.text\n",
        "\n",
        "    d = json.loads(text) \n",
        "    movie = []\n",
        "\n",
        "    for b in d['boxOfficeResult']['dailyBoxOfficeList']:\n",
        "        movie.append([  b['audiAcc'],\n",
        "                        b['audiChange'],\n",
        "                        b['audiCnt'],\n",
        "                        b['audiInten'],\n",
        "                        b['movieCd'],\n",
        "                        b['movieNm'],\n",
        "                        b['openDt'],\n",
        "                        b['rank'],\n",
        "                        b['rankInten'],\n",
        "                        b['rankOldAndNew'],\n",
        "                        b['rnum'],\n",
        "                        b['salesAcc'],\n",
        "                        b['salesAmt'],\n",
        "                        b['salesChange'],\n",
        "                        b['salesInten'],\n",
        "                        b['salesShare'],\n",
        "                        b['scrnCnt'],\n",
        "                        b['showCnt']\n",
        "                        ])\n",
        "    df = pd.DataFrame(movie,columns = ['audiAcc','audiChange','audiCnt','audiInten','movieCd','movieNm','openDt','rank','rankInten','rankOldAndNew','rnum','salesAcc','salesAmt','salesChange','salesInten','salesShare','scrnCnt','showCnt'])\n",
        "    df['targetDt'] = target_dt\n",
        "    return df    \n"
      ],
      "execution_count": 54,
      "outputs": []
    },
    {
      "cell_type": "code",
      "metadata": {
        "colab": {
          "base_uri": "https://localhost:8080/"
        },
        "id": "szOPjfG4ws--",
        "outputId": "f4e14569-e0df-4cf0-a5f9-3ad8cd2f779d"
      },
      "source": [
        "## std_date = datetime.datetime.strptime('조회 시작일', '%Y-%m-%d')\n",
        "## for i in range(0,조회 하려는 일자 수):\n",
        "#     tmp = tmp.append(get_daily_box_office(std_date, i))\n",
        "##\n",
        "## 예: 조회시작일이 2020-01-01, range(0,2) 인 경우 2020-01-01과 2020-01-02 이틀 조회\n",
        "\n",
        "std_date = datetime.datetime.strptime('2020-01-01', '%Y-%m-%d')\n",
        "for i in range(0,2):\n",
        "    tmp = tmp.append(get_daily_box_office(std_date, i))\n"
      ],
      "execution_count": 55,
      "outputs": [
        {
          "output_type": "stream",
          "text": [
            "20200101\n",
            "20200102\n"
          ],
          "name": "stdout"
        }
      ]
    },
    {
      "cell_type": "code",
      "metadata": {
        "colab": {
          "base_uri": "https://localhost:8080/",
          "height": 638
        },
        "id": "ZAzEZBaFUsKZ",
        "outputId": "ea3037d8-46c6-4de1-f910-3cf4d7efe44f"
      },
      "source": [
        "tmp.describe().T"
      ],
      "execution_count": 57,
      "outputs": [
        {
          "output_type": "execute_result",
          "data": {
            "text/html": [
              "<div>\n",
              "<style scoped>\n",
              "    .dataframe tbody tr th:only-of-type {\n",
              "        vertical-align: middle;\n",
              "    }\n",
              "\n",
              "    .dataframe tbody tr th {\n",
              "        vertical-align: top;\n",
              "    }\n",
              "\n",
              "    .dataframe thead th {\n",
              "        text-align: right;\n",
              "    }\n",
              "</style>\n",
              "<table border=\"1\" class=\"dataframe\">\n",
              "  <thead>\n",
              "    <tr style=\"text-align: right;\">\n",
              "      <th></th>\n",
              "      <th>count</th>\n",
              "      <th>unique</th>\n",
              "      <th>top</th>\n",
              "      <th>freq</th>\n",
              "    </tr>\n",
              "  </thead>\n",
              "  <tbody>\n",
              "    <tr>\n",
              "      <th>audiAcc</th>\n",
              "      <td>20</td>\n",
              "      <td>20</td>\n",
              "      <td>1419125</td>\n",
              "      <td>1</td>\n",
              "    </tr>\n",
              "    <tr>\n",
              "      <th>audiChange</th>\n",
              "      <td>20</td>\n",
              "      <td>19</td>\n",
              "      <td>100</td>\n",
              "      <td>2</td>\n",
              "    </tr>\n",
              "    <tr>\n",
              "      <th>audiCnt</th>\n",
              "      <td>20</td>\n",
              "      <td>20</td>\n",
              "      <td>11845</td>\n",
              "      <td>1</td>\n",
              "    </tr>\n",
              "    <tr>\n",
              "      <th>audiInten</th>\n",
              "      <td>20</td>\n",
              "      <td>20</td>\n",
              "      <td>32353</td>\n",
              "      <td>1</td>\n",
              "    </tr>\n",
              "    <tr>\n",
              "      <th>movieCd</th>\n",
              "      <td>20</td>\n",
              "      <td>11</td>\n",
              "      <td>20198430</td>\n",
              "      <td>2</td>\n",
              "    </tr>\n",
              "    <tr>\n",
              "      <th>movieNm</th>\n",
              "      <td>20</td>\n",
              "      <td>11</td>\n",
              "      <td>시동</td>\n",
              "      <td>2</td>\n",
              "    </tr>\n",
              "    <tr>\n",
              "      <th>openDt</th>\n",
              "      <td>20</td>\n",
              "      <td>9</td>\n",
              "      <td>2019-12-19</td>\n",
              "      <td>4</td>\n",
              "    </tr>\n",
              "    <tr>\n",
              "      <th>rank</th>\n",
              "      <td>20</td>\n",
              "      <td>10</td>\n",
              "      <td>8</td>\n",
              "      <td>2</td>\n",
              "    </tr>\n",
              "    <tr>\n",
              "      <th>rankInten</th>\n",
              "      <td>20</td>\n",
              "      <td>3</td>\n",
              "      <td>0</td>\n",
              "      <td>17</td>\n",
              "    </tr>\n",
              "    <tr>\n",
              "      <th>rankOldAndNew</th>\n",
              "      <td>20</td>\n",
              "      <td>2</td>\n",
              "      <td>OLD</td>\n",
              "      <td>18</td>\n",
              "    </tr>\n",
              "    <tr>\n",
              "      <th>rnum</th>\n",
              "      <td>20</td>\n",
              "      <td>10</td>\n",
              "      <td>8</td>\n",
              "      <td>2</td>\n",
              "    </tr>\n",
              "    <tr>\n",
              "      <th>salesAcc</th>\n",
              "      <td>20</td>\n",
              "      <td>20</td>\n",
              "      <td>2610606940</td>\n",
              "      <td>1</td>\n",
              "    </tr>\n",
              "    <tr>\n",
              "      <th>salesAmt</th>\n",
              "      <td>20</td>\n",
              "      <td>20</td>\n",
              "      <td>23566400</td>\n",
              "      <td>1</td>\n",
              "    </tr>\n",
              "    <tr>\n",
              "      <th>salesChange</th>\n",
              "      <td>20</td>\n",
              "      <td>19</td>\n",
              "      <td>100</td>\n",
              "      <td>2</td>\n",
              "    </tr>\n",
              "    <tr>\n",
              "      <th>salesInten</th>\n",
              "      <td>20</td>\n",
              "      <td>20</td>\n",
              "      <td>-131715020</td>\n",
              "      <td>1</td>\n",
              "    </tr>\n",
              "    <tr>\n",
              "      <th>salesShare</th>\n",
              "      <td>20</td>\n",
              "      <td>18</td>\n",
              "      <td>2.8</td>\n",
              "      <td>2</td>\n",
              "    </tr>\n",
              "    <tr>\n",
              "      <th>scrnCnt</th>\n",
              "      <td>20</td>\n",
              "      <td>20</td>\n",
              "      <td>121</td>\n",
              "      <td>1</td>\n",
              "    </tr>\n",
              "    <tr>\n",
              "      <th>showCnt</th>\n",
              "      <td>20</td>\n",
              "      <td>20</td>\n",
              "      <td>602</td>\n",
              "      <td>1</td>\n",
              "    </tr>\n",
              "    <tr>\n",
              "      <th>targetDt</th>\n",
              "      <td>20</td>\n",
              "      <td>2</td>\n",
              "      <td>20200101</td>\n",
              "      <td>10</td>\n",
              "    </tr>\n",
              "  </tbody>\n",
              "</table>\n",
              "</div>"
            ],
            "text/plain": [
              "              count unique         top freq\n",
              "audiAcc          20     20     1419125    1\n",
              "audiChange       20     19         100    2\n",
              "audiCnt          20     20       11845    1\n",
              "audiInten        20     20       32353    1\n",
              "movieCd          20     11    20198430    2\n",
              "movieNm          20     11          시동    2\n",
              "openDt           20      9  2019-12-19    4\n",
              "rank             20     10           8    2\n",
              "rankInten        20      3           0   17\n",
              "rankOldAndNew    20      2         OLD   18\n",
              "rnum             20     10           8    2\n",
              "salesAcc         20     20  2610606940    1\n",
              "salesAmt         20     20    23566400    1\n",
              "salesChange      20     19         100    2\n",
              "salesInten       20     20  -131715020    1\n",
              "salesShare       20     18         2.8    2\n",
              "scrnCnt          20     20         121    1\n",
              "showCnt          20     20         602    1\n",
              "targetDt         20      2    20200101   10"
            ]
          },
          "metadata": {
            "tags": []
          },
          "execution_count": 57
        }
      ]
    }
  ]
}