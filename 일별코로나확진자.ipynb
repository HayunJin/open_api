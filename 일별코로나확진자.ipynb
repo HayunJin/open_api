{
  "nbformat": 4,
  "nbformat_minor": 0,
  "metadata": {
    "colab": {
      "name": "일별코로나확진자.ipynb",
      "private_outputs": true,
      "provenance": [],
      "include_colab_link": true
    },
    "kernelspec": {
      "name": "python3",
      "display_name": "Python 3"
    },
    "language_info": {
      "name": "python"
    }
  },
  "cells": [
    {
      "cell_type": "markdown",
      "metadata": {
        "id": "view-in-github",
        "colab_type": "text"
      },
      "source": [
        "<a href=\"https://colab.research.google.com/github/HayunJin/open_api/blob/main/%EC%9D%BC%EB%B3%84%EC%BD%94%EB%A1%9C%EB%82%98%ED%99%95%EC%A7%84%EC%9E%90.ipynb\" target=\"_parent\"><img src=\"https://colab.research.google.com/assets/colab-badge.svg\" alt=\"Open In Colab\"/></a>"
      ]
    },
    {
      "cell_type": "code",
      "metadata": {
        "id": "2QHdi3C3sMmD"
      },
      "source": [
        "import pandas as pd\n",
        "import matplotlib.pyplot as plt\n",
        "\n",
        "from bs4 import BeautifulSoup\n",
        "from urllib.request import Request, urlopen\n",
        "from urllib.parse import unquote, quote_plus, urlencode"
      ],
      "execution_count": null,
      "outputs": []
    },
    {
      "cell_type": "code",
      "metadata": {
        "id": "y0y7lcdasS3J"
      },
      "source": [
        "url = 'http://openapi.data.go.kr/openapi/service/rest/Covid19/getCovid19InfStateJson'\n",
        "servicekey = 'servicekey'\n",
        "decodekey = unquote(servicekey)"
      ],
      "execution_count": null,
      "outputs": []
    },
    {
      "cell_type": "code",
      "metadata": {
        "id": "SffPejA7sX0M"
      },
      "source": [
        "startCreateDt = 20210105\n",
        "endCreateDt = 20210405\n",
        "\n",
        "query_params = '?' + urlencode({\n",
        "    quote_plus('serviceKey'): decodekey,\n",
        "    quote_plus('startCreateDt'): startCreateDt,\n",
        "    quote_plus('endCreateDt'): endCreateDt\n",
        "})\n",
        "\n",
        "URL = url + query_params"
      ],
      "execution_count": null,
      "outputs": []
    },
    {
      "cell_type": "code",
      "metadata": {
        "id": "5p_hT7rcsd4E"
      },
      "source": [
        "request = Request(URL)\n",
        "page = urlopen(request).read()"
      ],
      "execution_count": null,
      "outputs": []
    },
    {
      "cell_type": "code",
      "metadata": {
        "id": "5KkBdBZxsf3A"
      },
      "source": [
        "soup = BeautifulSoup(page, 'html.parser')\n",
        "parse = soup.find_all(['decidecnt', 'statedt'])  # decidecnt 태그와 statedt 태그 다 찾기\n",
        "\n",
        "df = []\n",
        "for dt, cnt in zip(parse[1::2], parse[0::2]):\n",
        "    df.append([dt.text, int(cnt.text)])  # 태그 안의 값은 \".text\"를 통해 접근할 수 있음\n",
        "\n",
        "df = pd.DataFrame(df, columns=['날짜', '누적확진자'])\n",
        "df = df.sort_values(by='날짜').reset_index(drop=True) \n",
        "df['일별확진자'] = df['누적확진자'].diff()\n",
        "df = df.loc[1:].reset_index(drop=True)  # 맨 앞의 데이터는 지우기 (일별 확진자가 계산되지 않았기 때문에)\n",
        "df['일별확진자'] = df['일별확진자'].astype(int)\n"
      ],
      "execution_count": null,
      "outputs": []
    },
    {
      "cell_type": "code",
      "metadata": {
        "id": "Czg6v-FybDO3"
      },
      "source": [
        "df"
      ],
      "execution_count": null,
      "outputs": []
    },
    {
      "cell_type": "code",
      "metadata": {
        "id": "LspQOdkSXXu5"
      },
      "source": [
        "df.to_csv('corona_210405.csv', sep=',')   # missing data representation (결측값 표기)"
      ],
      "execution_count": null,
      "outputs": []
    },
    {
      "cell_type": "code",
      "metadata": {
        "id": "q_WeAppjYL8j"
      },
      "source": [
        "from google.colab import drive\n",
        "drive.mount('./MyDrive')"
      ],
      "execution_count": null,
      "outputs": []
    },
    {
      "cell_type": "code",
      "metadata": {
        "id": "k_myrzOhY3tY"
      },
      "source": [
        ""
      ],
      "execution_count": null,
      "outputs": []
    }
  ]
}