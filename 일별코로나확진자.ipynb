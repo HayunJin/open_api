{
  "nbformat": 4,
  "nbformat_minor": 0,
  "metadata": {
    "colab": {
      "name": "일별코로나확진자.ipynb",
      "provenance": [],
      "collapsed_sections": [],
      "include_colab_link": true
    },
    "kernelspec": {
      "name": "python3",
      "display_name": "Python 3"
    },
    "language_info": {
      "name": "python"
    }
  },
  "cells": [
    {
      "cell_type": "markdown",
      "metadata": {
        "id": "view-in-github",
        "colab_type": "text"
      },
      "source": [
        "<a href=\"https://colab.research.google.com/github/HayunJin/open_api/blob/main/%EC%9D%BC%EB%B3%84%EC%BD%94%EB%A1%9C%EB%82%98%ED%99%95%EC%A7%84%EC%9E%90.ipynb\" target=\"_parent\"><img src=\"https://colab.research.google.com/assets/colab-badge.svg\" alt=\"Open In Colab\"/></a>"
      ]
    },
    {
      "cell_type": "code",
      "metadata": {
        "id": "2QHdi3C3sMmD"
      },
      "source": [
        "import pandas as pd\n",
        "import matplotlib.pyplot as plt\n",
        "\n",
        "from bs4 import BeautifulSoup\n",
        "from urllib.request import Request, urlopen\n",
        "from urllib.parse import unquote, quote_plus, urlencode"
      ],
      "execution_count": 1,
      "outputs": []
    },
    {
      "cell_type": "code",
      "metadata": {
        "id": "y0y7lcdasS3J"
      },
      "source": [
        "url = 'http://openapi.data.go.kr/openapi/service/rest/Covid19/getCovid19InfStateJson'\n",
        "servicekey = '서비스키''\n",
        "decodekey = unquote(servicekey)"
      ],
      "execution_count": 2,
      "outputs": []
    },
    {
      "cell_type": "code",
      "metadata": {
        "id": "SffPejA7sX0M"
      },
      "source": [
        "startCreateDt = 20210105\n",
        "endCreateDt = 20210405\n",
        "\n",
        "query_params = '?' + urlencode({\n",
        "    quote_plus('serviceKey'): decodekey,\n",
        "    quote_plus('startCreateDt'): startCreateDt,\n",
        "    quote_plus('endCreateDt'): endCreateDt\n",
        "})\n",
        "\n",
        "URL = url + query_params"
      ],
      "execution_count": 3,
      "outputs": []
    },
    {
      "cell_type": "code",
      "metadata": {
        "id": "5p_hT7rcsd4E"
      },
      "source": [
        "request = Request(URL)\n",
        "page = urlopen(request).read()"
      ],
      "execution_count": 4,
      "outputs": []
    },
    {
      "cell_type": "code",
      "metadata": {
        "id": "5KkBdBZxsf3A",
        "colab": {
          "base_uri": "https://localhost:8080/",
          "height": 419
        },
        "outputId": "b9c04753-8a24-45a8-e374-44d033c3bc78"
      },
      "source": [
        "soup = BeautifulSoup(page, 'html.parser')\n",
        "parse = soup.find_all(['decidecnt', 'statedt'])  # decidecnt 태그와 statedt 태그 다 찾기\n",
        "\n",
        "df = []\n",
        "for dt, cnt in zip(parse[1::2], parse[0::2]):\n",
        "    df.append([dt.text, int(cnt.text)])  # 태그 안의 값은 \".text\"를 통해 접근할 수 있음\n",
        "\n",
        "df = pd.DataFrame(df, columns=['날짜', '누적확진자'])\n",
        "df = df.sort_values(by='날짜').reset_index(drop=True) \n",
        "df['일별확진자'] = df['누적확진자'].diff()\n",
        "df = df.loc[1:].reset_index(drop=True)  # 맨 앞의 데이터는 지우기 (일별 확진자가 계산되지 않았기 때문에)\n",
        "df['일별확진자'] = df['일별확진자'].astype(int)\n"
      ],
      "execution_count": 5,
      "outputs": [
        {
          "output_type": "execute_result",
          "data": {
            "text/html": [
              "<div>\n",
              "<style scoped>\n",
              "    .dataframe tbody tr th:only-of-type {\n",
              "        vertical-align: middle;\n",
              "    }\n",
              "\n",
              "    .dataframe tbody tr th {\n",
              "        vertical-align: top;\n",
              "    }\n",
              "\n",
              "    .dataframe thead th {\n",
              "        text-align: right;\n",
              "    }\n",
              "</style>\n",
              "<table border=\"1\" class=\"dataframe\">\n",
              "  <thead>\n",
              "    <tr style=\"text-align: right;\">\n",
              "      <th></th>\n",
              "      <th>날짜</th>\n",
              "      <th>누적확진자</th>\n",
              "      <th>일별확진자</th>\n",
              "    </tr>\n",
              "  </thead>\n",
              "  <tbody>\n",
              "    <tr>\n",
              "      <th>0</th>\n",
              "      <td>20210106</td>\n",
              "      <td>65816</td>\n",
              "      <td>838</td>\n",
              "    </tr>\n",
              "    <tr>\n",
              "      <th>1</th>\n",
              "      <td>20210107</td>\n",
              "      <td>66684</td>\n",
              "      <td>868</td>\n",
              "    </tr>\n",
              "    <tr>\n",
              "      <th>2</th>\n",
              "      <td>20210108</td>\n",
              "      <td>67358</td>\n",
              "      <td>674</td>\n",
              "    </tr>\n",
              "    <tr>\n",
              "      <th>3</th>\n",
              "      <td>20210109</td>\n",
              "      <td>67999</td>\n",
              "      <td>641</td>\n",
              "    </tr>\n",
              "    <tr>\n",
              "      <th>4</th>\n",
              "      <td>20210110</td>\n",
              "      <td>68663</td>\n",
              "      <td>664</td>\n",
              "    </tr>\n",
              "    <tr>\n",
              "      <th>...</th>\n",
              "      <td>...</td>\n",
              "      <td>...</td>\n",
              "      <td>...</td>\n",
              "    </tr>\n",
              "    <tr>\n",
              "      <th>85</th>\n",
              "      <td>20210401</td>\n",
              "      <td>103636</td>\n",
              "      <td>551</td>\n",
              "    </tr>\n",
              "    <tr>\n",
              "      <th>86</th>\n",
              "      <td>20210402</td>\n",
              "      <td>104193</td>\n",
              "      <td>557</td>\n",
              "    </tr>\n",
              "    <tr>\n",
              "      <th>87</th>\n",
              "      <td>20210403</td>\n",
              "      <td>104736</td>\n",
              "      <td>543</td>\n",
              "    </tr>\n",
              "    <tr>\n",
              "      <th>88</th>\n",
              "      <td>20210404</td>\n",
              "      <td>105279</td>\n",
              "      <td>543</td>\n",
              "    </tr>\n",
              "    <tr>\n",
              "      <th>89</th>\n",
              "      <td>20210405</td>\n",
              "      <td>105752</td>\n",
              "      <td>473</td>\n",
              "    </tr>\n",
              "  </tbody>\n",
              "</table>\n",
              "<p>90 rows × 3 columns</p>\n",
              "</div>"
            ],
            "text/plain": [
              "          날짜   누적확진자  일별확진자\n",
              "0   20210106   65816    838\n",
              "1   20210107   66684    868\n",
              "2   20210108   67358    674\n",
              "3   20210109   67999    641\n",
              "4   20210110   68663    664\n",
              "..       ...     ...    ...\n",
              "85  20210401  103636    551\n",
              "86  20210402  104193    557\n",
              "87  20210403  104736    543\n",
              "88  20210404  105279    543\n",
              "89  20210405  105752    473\n",
              "\n",
              "[90 rows x 3 columns]"
            ]
          },
          "metadata": {
            "tags": []
          },
          "execution_count": 5
        }
      ]
    },
    {
      "cell_type": "code",
      "metadata": {
        "id": "Czg6v-FybDO3"
      },
      "source": [
        "df"
      ],
      "execution_count": null,
      "outputs": []
    },
    {
      "cell_type": "code",
      "metadata": {
        "id": "LspQOdkSXXu5"
      },
      "source": [
        "df.to_csv('corona_210405.csv', sep=',')   # missing data representation (결측값 표기)"
      ],
      "execution_count": 16,
      "outputs": []
    },
    {
      "cell_type": "code",
      "metadata": {
        "colab": {
          "base_uri": "https://localhost:8080/"
        },
        "id": "q_WeAppjYL8j",
        "outputId": "1b49e9a7-5c64-442c-f834-23d2feeccfd7"
      },
      "source": [
        "from google.colab import drive\n",
        "drive.mount('./MyDrive')"
      ],
      "execution_count": 12,
      "outputs": [
        {
          "output_type": "stream",
          "text": [
            "Mounted at ./MyDrive\n"
          ],
          "name": "stdout"
        }
      ]
    },
    {
      "cell_type": "code",
      "metadata": {
        "id": "k_myrzOhY3tY"
      },
      "source": [
        ""
      ],
      "execution_count": 13,
      "outputs": []
    }
  ]
}